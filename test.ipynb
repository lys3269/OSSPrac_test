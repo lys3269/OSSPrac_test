{
 "cells": [
  {
   "cell_type": "code",
   "execution_count": null,
   "id": "dbcebcc2",
   "metadata": {},
   "outputs": [],
   "source": [
    "name = input('수정후 이름 출력: ')"
   ]
  },
  {
   "cell_type": "code",
   "execution_count": null,
   "id": "b64a9995",
   "metadata": {},
   "outputs": [],
   "source": [
    "school = input('학교 출력: ')"
   ]
  },
  {
   "cell_type": "code",
   "execution_count": 1,
   "id": "51bab57a",
   "metadata": {},
   "outputs": [
    {
     "name": "stdout",
     "output_type": "stream",
     "text": [
      "\n"
     ]
    }
   ],
   "source": [
    "print(\"<출력>\")\n",
    "print(name)\n",
    "print(school)"
   ]
  }
 ],
 "metadata": {
  "kernelspec": {
   "display_name": "Python 3 (ipykernel)",
   "language": "python",
   "name": "python3"
  },
  "language_info": {
   "codemirror_mode": {
    "name": "ipython",
    "version": 3
   },
   "file_extension": ".py",
   "mimetype": "text/x-python",
   "name": "python",
   "nbconvert_exporter": "python",
   "pygments_lexer": "ipython3",
   "version": "3.9.12"
  }
 },
 "nbformat": 4,
 "nbformat_minor": 5
}
